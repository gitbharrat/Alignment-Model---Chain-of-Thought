{
 "cells": [
  {
   "cell_type": "markdown",
   "metadata": {},
   "source": [
    "# Playground"
   ]
  },
  {
   "cell_type": "code",
   "execution_count": 74,
   "metadata": {},
   "outputs": [],
   "source": [
    "import os\n",
    "import json\n",
    "import copy\n",
    "\n",
    "train_folder = 'data/training'\n",
    "all_data = []"
   ]
  },
  {
   "cell_type": "code",
   "execution_count": 75,
   "metadata": {},
   "outputs": [
    {
     "name": "stdout",
     "output_type": "stream",
     "text": [
      "Total Files: 400\n",
      "Total Data: 400\n"
     ]
    }
   ],
   "source": [
    "# Extracting Data from the Training Set\n",
    "for filename in os.listdir(train_folder): \n",
    "    if filename.endswith('.json'):\n",
    "        with open(os.path.join(train_folder, filename), 'r') as file:\n",
    "            data = json.load(file)\n",
    "            train_data = data['train']\n",
    "            test_data = data['test']\n",
    "            all_data.append([train_data, test_data])\n",
    "\n",
    "print(\"Total Files:\", len(os.listdir(train_folder)))\n",
    "print(\"Total Data:\", len(all_data))"
   ]
  },
  {
   "cell_type": "code",
   "execution_count": 93,
   "metadata": {},
   "outputs": [],
   "source": [
    "def data_parser(user_data, hide_test_labels=False, return_answer=False):\n",
    "\n",
    "    # Making a copy of data\n",
    "    data = copy.deepcopy(user_data)\n",
    "    train_samples = []\n",
    "    test_sample = None\n",
    "    train, test =  data\n",
    "\n",
    "    # Parsing Samples\n",
    "    for sample in train:\n",
    "        train_samples.append(sample)\n",
    "    for sample in test:\n",
    "        answer = sample['output']\n",
    "        if hide_test_labels:\n",
    "            sample['output'] = '?'\n",
    "            test_sample = sample\n",
    "        else:\n",
    "            test_sample = sample\n",
    "            \n",
    "    if return_answer:\n",
    "        del data\n",
    "        return train_samples, test_sample, answer\n",
    "    else:\n",
    "        del data\n",
    "        return train_samples, test_sample"
   ]
  },
  {
   "cell_type": "code",
   "execution_count": 95,
   "metadata": {},
   "outputs": [
    {
     "data": {
      "text/plain": [
       "[[7]]"
      ]
     },
     "execution_count": 95,
     "metadata": {},
     "output_type": "execute_result"
    }
   ],
   "source": [
    "data_parser(all_data[5], hide_test_labels=False, return_answer=True)[2]"
   ]
  },
  {
   "cell_type": "code",
   "execution_count": null,
   "metadata": {},
   "outputs": [],
   "source": []
  }
 ],
 "metadata": {
  "kernelspec": {
   "display_name": "base",
   "language": "python",
   "name": "python3"
  },
  "language_info": {
   "codemirror_mode": {
    "name": "ipython",
    "version": 3
   },
   "file_extension": ".py",
   "mimetype": "text/x-python",
   "name": "python",
   "nbconvert_exporter": "python",
   "pygments_lexer": "ipython3",
   "version": "3.11.7"
  }
 },
 "nbformat": 4,
 "nbformat_minor": 2
}
